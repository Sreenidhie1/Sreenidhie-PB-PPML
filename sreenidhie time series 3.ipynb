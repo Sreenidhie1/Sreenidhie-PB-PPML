{
 "cells": [
  {
   "cell_type": "code",
   "execution_count": 1,
   "id": "6d0d7424",
   "metadata": {},
   "outputs": [
    {
     "name": "stdout",
     "output_type": "stream",
     "text": [
      "Date Index \n",
      " 2011-01-02    1.405751\n",
      "2011-01-05   -0.216636\n",
      "2011-01-07   -0.050412\n",
      "2011-01-08   -0.752196\n",
      "2011-01-10    1.273465\n",
      "2011-01-12    0.712813\n",
      "dtype: float64\n"
     ]
    }
   ],
   "source": [
    "import pandas as pd\n",
    "import numpy as np\n",
    "from datetime import datetime\n",
    "\n",
    "#create a date variable that contains the dates\n",
    "dates = [datetime(2011, 1, 2),\n",
    "         datetime(2011, 1, 5),\n",
    "         datetime(2011, 1, 7),\n",
    "         datetime(2011, 1, 8),\n",
    "         datetime(2011, 1, 10),\n",
    "         datetime(2011, 1, 12)]\n",
    "\n",
    "#with this date object, create a series\n",
    "ts = pd.Series(np.random.randn(6), index=dates)\n",
    "print(\"Date Index \\n\",ts)\n"
   ]
  },
  {
   "cell_type": "code",
   "execution_count": 2,
   "id": "f65b8243",
   "metadata": {},
   "outputs": [
    {
     "name": "stdout",
     "output_type": "stream",
     "text": [
      "\n",
      "Daterange up to 1000 days:\n",
      " 2000-01-01   -0.124636\n",
      "2000-01-02   -0.934421\n",
      "2000-01-03    0.209841\n",
      "2000-01-04   -1.598974\n",
      "2000-01-05    0.520725\n",
      "                ...   \n",
      "2002-09-22    0.318937\n",
      "2002-09-23   -0.765795\n",
      "2002-09-24    0.256491\n",
      "2002-09-25   -1.351662\n",
      "2002-09-26    0.699185\n",
      "Freq: D, Length: 1000, dtype: float64\n"
     ]
    }
   ],
   "source": [
    "#play like a ball with long-times series\n",
    "longer_ts=pd.Series(np.random.randn(1000),\n",
    "                    index=pd.date_range(\"2000-01-01\",periods=1000))\n",
    "print(\"\\nDaterange up to 1000 days:\\n\",longer_ts)\n"
   ]
  },
  {
   "cell_type": "code",
   "execution_count": 3,
   "id": "9f1b7229",
   "metadata": {},
   "outputs": [
    {
     "name": "stdout",
     "output_type": "stream",
     "text": [
      "\n",
      "Date range-2001 year:\n",
      " 2001-01-01    0.184169\n",
      "2001-01-02    0.834940\n",
      "2001-01-03    0.396367\n",
      "2001-01-04   -1.081814\n",
      "2001-01-05   -0.289667\n",
      "                ...   \n",
      "2001-12-27   -0.411158\n",
      "2001-12-28    0.272237\n",
      "2001-12-29   -0.371883\n",
      "2001-12-30    0.746821\n",
      "2001-12-31   -0.928361\n",
      "Freq: D, Length: 365, dtype: float64\n"
     ]
    }
   ],
   "source": [
    "print(\"\\nDate range-2001 year:\\n\", longer_ts[\"2001\"])\n"
   ]
  },
  {
   "cell_type": "code",
   "execution_count": 4,
   "id": "450c15d9",
   "metadata": {},
   "outputs": [
    {
     "name": "stdout",
     "output_type": "stream",
     "text": [
      "\n",
      "Date range-05 month 2001 year:\n",
      " 2001-05-01    1.700795\n",
      "2001-05-02    0.151383\n",
      "2001-05-03    0.152067\n",
      "2001-05-04    0.763147\n",
      "2001-05-05    0.119055\n",
      "2001-05-06    0.513936\n",
      "2001-05-07    0.450960\n",
      "2001-05-08   -1.229811\n",
      "2001-05-09    0.584009\n",
      "2001-05-10    1.859999\n",
      "2001-05-11   -0.098841\n",
      "2001-05-12    0.262560\n",
      "2001-05-13   -0.255708\n",
      "2001-05-14    1.011577\n",
      "2001-05-15   -0.203922\n",
      "2001-05-16    1.083960\n",
      "2001-05-17    0.722724\n",
      "2001-05-18    2.135136\n",
      "2001-05-19    0.840084\n",
      "2001-05-20    0.400963\n",
      "2001-05-21   -0.228451\n",
      "2001-05-22   -0.290806\n",
      "2001-05-23   -0.572744\n",
      "2001-05-24   -0.887642\n",
      "2001-05-25   -0.834289\n",
      "2001-05-26   -0.122079\n",
      "2001-05-27   -0.633293\n",
      "2001-05-28    1.613695\n",
      "2001-05-29   -0.544215\n",
      "2001-05-30   -0.460318\n",
      "2001-05-31   -0.972755\n",
      "Freq: D, dtype: float64\n"
     ]
    }
   ],
   "source": [
    "print(\"\\nDate range-05 month 2001 year:\\n\", longer_ts[\"2001-05\"])"
   ]
  },
  {
   "cell_type": "code",
   "execution_count": 5,
   "id": "93ea32cd",
   "metadata": {},
   "outputs": [
    {
     "name": "stdout",
     "output_type": "stream",
     "text": [
      "\n",
      "Date range-first few dates in 2000 year:\n",
      " 2000-01-01   -0.124636\n",
      "2000-01-02   -0.934421\n",
      "2000-01-03    0.209841\n",
      "2000-01-04   -1.598974\n",
      "2000-01-05    0.520725\n",
      "Freq: D, dtype: float64\n"
     ]
    }
   ],
   "source": [
    "print(\"\\nDate range-first few dates in 2000 year:\\n\",longer_ts[\"2000\"].head())\n"
   ]
  },
  {
   "cell_type": "code",
   "execution_count": 7,
   "id": "870ce66c",
   "metadata": {},
   "outputs": [
    {
     "name": "stdout",
     "output_type": "stream",
     "text": [
      "\n",
      "Date range-first 15 dates in 02 month 2001 year:\n",
      " 2000-02-01   -0.953197\n",
      "2000-02-02    0.273360\n",
      "2000-02-03   -0.314010\n",
      "2000-02-04   -1.362938\n",
      "2000-02-05    0.920987\n",
      "2000-02-06   -0.262869\n",
      "2000-02-07    1.070712\n",
      "2000-02-08   -0.052502\n",
      "2000-02-09    1.513093\n",
      "2000-02-10   -0.213430\n",
      "2000-02-11   -0.472485\n",
      "2000-02-12    0.052911\n",
      "2000-02-13    0.465032\n",
      "2000-02-14    0.905057\n",
      "2000-02-15   -0.486902\n",
      "Freq: D, dtype: float64\n"
     ]
    }
   ],
   "source": [
    "print(\"\\nDate range-first 15 dates in 02 month 2001 year:\\n\",longer_ts[\"2000-02\"].head(15))\n"
   ]
  },
  {
   "cell_type": "code",
   "execution_count": 8,
   "id": "5beae9b4",
   "metadata": {},
   "outputs": [
    {
     "name": "stdout",
     "output_type": "stream",
     "text": [
      "\n",
      "Date range-rom 26-9-2001:\n",
      " 2000-09-26    1.954487\n",
      "2000-09-27    0.292470\n",
      "2000-09-28   -0.109852\n",
      "2000-09-29    1.539877\n",
      "2000-09-30   -1.058389\n",
      "                ...   \n",
      "2002-09-22    0.318937\n",
      "2002-09-23   -0.765795\n",
      "2002-09-24    0.256491\n",
      "2002-09-25   -1.351662\n",
      "2002-09-26    0.699185\n",
      "Freq: D, Length: 731, dtype: float64\n"
     ]
    }
   ],
   "source": [
    "print(\"\\nDate range-rom 26-9-2001:\\n\",longer_ts[datetime(2000,9,26):])\n"
   ]
  },
  {
   "cell_type": "code",
   "execution_count": 9,
   "id": "5575d04a",
   "metadata": {},
   "outputs": [
    {
     "name": "stdout",
     "output_type": "stream",
     "text": [
      "\n",
      "Date range from 26-9-2001 to 25-9- 2002:\n",
      " 2001-09-26   -1.174542\n",
      "2001-09-27   -0.022254\n",
      "2001-09-28    2.313743\n",
      "2001-09-29    1.556075\n",
      "2001-09-30   -1.279002\n",
      "                ...   \n",
      "2002-09-21   -1.142682\n",
      "2002-09-22    0.318937\n",
      "2002-09-23   -0.765795\n",
      "2002-09-24    0.256491\n",
      "2002-09-25   -1.351662\n",
      "Freq: D, Length: 365, dtype: float64\n"
     ]
    }
   ],
   "source": [
    "print(\"\\nDate range from 26-9-2001 to 25-9- 2002:\\n\",longer_ts[datetime(2001,9,26):datetime(2002,9,25)])\n"
   ]
  },
  {
   "cell_type": "code",
   "execution_count": null,
   "id": "67030f24",
   "metadata": {},
   "outputs": [],
   "source": []
  }
 ],
 "metadata": {
  "kernelspec": {
   "display_name": "Python 3 (ipykernel)",
   "language": "python",
   "name": "python3"
  },
  "language_info": {
   "codemirror_mode": {
    "name": "ipython",
    "version": 3
   },
   "file_extension": ".py",
   "mimetype": "text/x-python",
   "name": "python",
   "nbconvert_exporter": "python",
   "pygments_lexer": "ipython3",
   "version": "3.10.9"
  }
 },
 "nbformat": 4,
 "nbformat_minor": 5
}
