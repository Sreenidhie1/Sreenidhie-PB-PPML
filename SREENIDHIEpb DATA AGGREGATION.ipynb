{
 "cells": [
  {
   "cell_type": "code",
   "execution_count": 1,
   "id": "229940c5",
   "metadata": {},
   "outputs": [
    {
     "name": "stdout",
     "output_type": "stream",
     "text": [
      "\n",
      "Original Dataframe:\n",
      "       Name category  value  score\n",
      "0    Alice        A      2     83\n",
      "1      Bob        B      1     91\n",
      "2  Charlie        A      1     63\n",
      "3    Alice        B      3     60\n",
      "4      Bob        A      1     79\n",
      "5  Charlie        B      2     61\n"
     ]
    }
   ],
   "source": [
    "import numpy as np\n",
    "import pandas as pd\n",
    "df=pd.DataFrame({'Name':['Alice', 'Bob', 'Charlie', 'Alice', 'Bob', 'Charlie'],\n",
    "'category':['A', 'B', 'A', 'B', 'A', 'B'],\n",
    "'value':np.random.randint(1, 5, size=6),\n",
    "'score':np.random.randint(60, 100, size=6)\n",
    "})\n",
    "print(\"\\nOriginal Dataframe:\\n\",df)"
   ]
  },
  {
   "cell_type": "code",
   "execution_count": 2,
   "id": "7671187e",
   "metadata": {},
   "outputs": [
    {
     "name": "stdout",
     "output_type": "stream",
     "text": [
      "\n",
      "Group by name and Aggregation with one column:\n",
      "       Name  value\n",
      "0    Alice      5\n",
      "1      Bob      2\n",
      "2  Charlie      3\n"
     ]
    }
   ],
   "source": [
    "#Data grouping and Aggregation: with one column sum\n",
    "df1=df.groupby(('Name'),as_index=False)['value'].sum()\n",
    "print(\"\\nGroup by name and Aggregation with one column:\\n\",df1)"
   ]
  },
  {
   "cell_type": "code",
   "execution_count": 3,
   "id": "f3579481",
   "metadata": {},
   "outputs": [
    {
     "name": "stdout",
     "output_type": "stream",
     "text": [
      "\n",
      "Group by name and Aggregation with two column:\n",
      "       Name  value  score\n",
      "0    Alice      5    143\n",
      "1      Bob      2    170\n",
      "2  Charlie      3    124\n",
      "\n",
      "Group by name and Aggregation with one column using agg function:\n",
      "       Name  value\n",
      "0    Alice      5\n",
      "1      Bob      2\n",
      "2  Charlie      3\n",
      "\n",
      "Group by name and multiple Aggregation functions :\n",
      "         value              score      \n",
      "          sum mean min max   sum  mean\n",
      "Name                                  \n",
      "Alice       5  2.5   2   3   143  71.5\n",
      "Bob         2  1.0   1   1   170  85.0\n",
      "Charlie     3  1.5   1   2   124  62.0\n"
     ]
    }
   ],
   "source": [
    "#Data grouping and Aggregation: with two column sum\n",
    "df2=df.groupby(('Name'),as_index=False)[['value','score']].sum()\n",
    "print(\"\\nGroup by name and Aggregation with two column:\\n\",df2)\n",
    "\n",
    "#Data grouping and Aggregation: with one column sum\n",
    "df3=df.groupby(('Name'),as_index=False)['value'].agg('sum')\n",
    "print(\"\\nGroup by name and Aggregation with one column using agg function:\\n\",df3)\n",
    "\n",
    "#Group by 'Name' and calculate multiple aggregations\n",
    "df4 = df.groupby('Name').agg({\n",
    "'value': ['sum', 'mean', 'min', 'max'],\n",
    "'score': ['sum', 'mean']})\n",
    "\n",
    "print(\"\\nGroup by name and multiple Aggregation functions :\\n\", df4)"
   ]
  },
  {
   "cell_type": "code",
   "execution_count": 5,
   "id": "22edcb8d",
   "metadata": {},
   "outputs": [
    {
     "ename": "KeyError",
     "evalue": "'Column not found: Value'",
     "output_type": "error",
     "traceback": [
      "\u001b[1;31m---------------------------------------------------------------------------\u001b[0m",
      "\u001b[1;31mKeyError\u001b[0m                                  Traceback (most recent call last)",
      "Cell \u001b[1;32mIn[5], line 1\u001b[0m\n\u001b[1;32m----> 1\u001b[0m df5\u001b[38;5;241m=\u001b[39m\u001b[43mdf\u001b[49m\u001b[38;5;241;43m.\u001b[39;49m\u001b[43mgroupby\u001b[49m\u001b[43m(\u001b[49m\u001b[43m(\u001b[49m\u001b[38;5;124;43m'\u001b[39;49m\u001b[38;5;124;43mName\u001b[39;49m\u001b[38;5;124;43m'\u001b[39;49m\u001b[43m)\u001b[49m\u001b[43m,\u001b[49m\u001b[43mas_index\u001b[49m\u001b[38;5;241;43m=\u001b[39;49m\u001b[38;5;28;43;01mFalse\u001b[39;49;00m\u001b[43m)\u001b[49m\u001b[43m[\u001b[49m\u001b[38;5;124;43m'\u001b[39;49m\u001b[38;5;124;43mValue\u001b[39;49m\u001b[38;5;124;43m'\u001b[39;49m\u001b[43m]\u001b[49m\u001b[38;5;241m.\u001b[39mcount()\n\u001b[0;32m      2\u001b[0m \u001b[38;5;28mprint\u001b[39m(\u001b[38;5;124m\"\u001b[39m\u001b[38;5;130;01m\\n\u001b[39;00m\u001b[38;5;124m Group and Count :\u001b[39m\u001b[38;5;130;01m\\n\u001b[39;00m\u001b[38;5;124m\"\u001b[39m,df5)\n\u001b[0;32m      3\u001b[0m df6\u001b[38;5;241m=\u001b[39mdf\u001b[38;5;241m.\u001b[39mgroupby((\u001b[38;5;124m'\u001b[39m\u001b[38;5;124mName\u001b[39m\u001b[38;5;124m'\u001b[39m))\u001b[38;5;241m.\u001b[39mcount()\n",
      "File \u001b[1;32mC:\\ProgramData\\anaconda3\\lib\\site-packages\\pandas\\core\\groupby\\generic.py:1416\u001b[0m, in \u001b[0;36mDataFrameGroupBy.__getitem__\u001b[1;34m(self, key)\u001b[0m\n\u001b[0;32m   1407\u001b[0m \u001b[38;5;28;01mif\u001b[39;00m \u001b[38;5;28misinstance\u001b[39m(key, \u001b[38;5;28mtuple\u001b[39m) \u001b[38;5;129;01mand\u001b[39;00m \u001b[38;5;28mlen\u001b[39m(key) \u001b[38;5;241m>\u001b[39m \u001b[38;5;241m1\u001b[39m:\n\u001b[0;32m   1408\u001b[0m     \u001b[38;5;66;03m# if len == 1, then it becomes a SeriesGroupBy and this is actually\u001b[39;00m\n\u001b[0;32m   1409\u001b[0m     \u001b[38;5;66;03m# valid syntax, so don't raise warning\u001b[39;00m\n\u001b[0;32m   1410\u001b[0m     warnings\u001b[38;5;241m.\u001b[39mwarn(\n\u001b[0;32m   1411\u001b[0m         \u001b[38;5;124m\"\u001b[39m\u001b[38;5;124mIndexing with multiple keys (implicitly converted to a tuple \u001b[39m\u001b[38;5;124m\"\u001b[39m\n\u001b[0;32m   1412\u001b[0m         \u001b[38;5;124m\"\u001b[39m\u001b[38;5;124mof keys) will be deprecated, use a list instead.\u001b[39m\u001b[38;5;124m\"\u001b[39m,\n\u001b[0;32m   1413\u001b[0m         \u001b[38;5;167;01mFutureWarning\u001b[39;00m,\n\u001b[0;32m   1414\u001b[0m         stacklevel\u001b[38;5;241m=\u001b[39mfind_stack_level(),\n\u001b[0;32m   1415\u001b[0m     )\n\u001b[1;32m-> 1416\u001b[0m \u001b[38;5;28;01mreturn\u001b[39;00m \u001b[38;5;28;43msuper\u001b[39;49m\u001b[43m(\u001b[49m\u001b[43m)\u001b[49m\u001b[38;5;241;43m.\u001b[39;49m\u001b[38;5;21;43m__getitem__\u001b[39;49m\u001b[43m(\u001b[49m\u001b[43mkey\u001b[49m\u001b[43m)\u001b[49m\n",
      "File \u001b[1;32mC:\\ProgramData\\anaconda3\\lib\\site-packages\\pandas\\core\\base.py:243\u001b[0m, in \u001b[0;36mSelectionMixin.__getitem__\u001b[1;34m(self, key)\u001b[0m\n\u001b[0;32m    241\u001b[0m \u001b[38;5;28;01melif\u001b[39;00m \u001b[38;5;129;01mnot\u001b[39;00m \u001b[38;5;28mgetattr\u001b[39m(\u001b[38;5;28mself\u001b[39m, \u001b[38;5;124m\"\u001b[39m\u001b[38;5;124mas_index\u001b[39m\u001b[38;5;124m\"\u001b[39m, \u001b[38;5;28;01mFalse\u001b[39;00m):\n\u001b[0;32m    242\u001b[0m     \u001b[38;5;28;01mif\u001b[39;00m key \u001b[38;5;129;01mnot\u001b[39;00m \u001b[38;5;129;01min\u001b[39;00m \u001b[38;5;28mself\u001b[39m\u001b[38;5;241m.\u001b[39mobj\u001b[38;5;241m.\u001b[39mcolumns:\n\u001b[1;32m--> 243\u001b[0m         \u001b[38;5;28;01mraise\u001b[39;00m \u001b[38;5;167;01mKeyError\u001b[39;00m(\u001b[38;5;124mf\u001b[39m\u001b[38;5;124m\"\u001b[39m\u001b[38;5;124mColumn not found: \u001b[39m\u001b[38;5;132;01m{\u001b[39;00mkey\u001b[38;5;132;01m}\u001b[39;00m\u001b[38;5;124m\"\u001b[39m)\n\u001b[0;32m    244\u001b[0m     \u001b[38;5;28;01mreturn\u001b[39;00m \u001b[38;5;28mself\u001b[39m\u001b[38;5;241m.\u001b[39m_gotitem(key, ndim\u001b[38;5;241m=\u001b[39m\u001b[38;5;241m2\u001b[39m)\n\u001b[0;32m    246\u001b[0m \u001b[38;5;28;01melse\u001b[39;00m:\n",
      "\u001b[1;31mKeyError\u001b[0m: 'Column not found: Value'"
     ]
    }
   ],
   "source": [
    "df5=df.groupby(('Name'),as_index=False)['Value'].count()\n",
    "print(\"\\n Group and Count :\\n\",df5)\n",
    "df6=df.groupby(('Name')).count()\n",
    "print(\"\\n Group and Count :\\n\", df6)"
   ]
  },
  {
   "cell_type": "code",
   "execution_count": null,
   "id": "2537f199",
   "metadata": {},
   "outputs": [],
   "source": []
  }
 ],
 "metadata": {
  "kernelspec": {
   "display_name": "Python 3 (ipykernel)",
   "language": "python",
   "name": "python3"
  },
  "language_info": {
   "codemirror_mode": {
    "name": "ipython",
    "version": 3
   },
   "file_extension": ".py",
   "mimetype": "text/x-python",
   "name": "python",
   "nbconvert_exporter": "python",
   "pygments_lexer": "ipython3",
   "version": "3.10.9"
  }
 },
 "nbformat": 4,
 "nbformat_minor": 5
}
