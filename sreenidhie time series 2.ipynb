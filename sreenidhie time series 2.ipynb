{
 "cells": [
  {
   "cell_type": "code",
   "execution_count": 1,
   "id": "feefe540",
   "metadata": {},
   "outputs": [
    {
     "name": "stdout",
     "output_type": "stream",
     "text": [
      "2025-04-12 12:44:54.712515\n"
     ]
    }
   ],
   "source": [
    "import datetime\n",
    "cd=datetime.datetime.now()\n",
    "print(cd)\n"
   ]
  },
  {
   "cell_type": "code",
   "execution_count": 2,
   "id": "9bbc55c2",
   "metadata": {},
   "outputs": [
    {
     "name": "stdout",
     "output_type": "stream",
     "text": [
      "\n",
      "Two-digit year: 25\n"
     ]
    }
   ],
   "source": [
    "res=cd.strftime(\"%y\") \n",
    "print(\"\\nTwo-digit year:\", res)\n"
   ]
  },
  {
   "cell_type": "code",
   "execution_count": 3,
   "id": "b7c91973",
   "metadata": {},
   "outputs": [
    {
     "name": "stdout",
     "output_type": "stream",
     "text": [
      "\n",
      "Four-digit year: 2025\n"
     ]
    }
   ],
   "source": [
    "res1=cd.strftime(\"%Y\") \n",
    "print(\"\\nFour-digit year:\", res1)\n"
   ]
  },
  {
   "cell_type": "code",
   "execution_count": 4,
   "id": "ec165e28",
   "metadata": {},
   "outputs": [
    {
     "name": "stdout",
     "output_type": "stream",
     "text": [
      "\n",
      "Two-digit month [01, 12]: 04\n"
     ]
    }
   ],
   "source": [
    "res=cd.strftime(\"%m\") \n",
    "print(\"\\nTwo-digit month [01, 12]:\",res)\n"
   ]
  },
  {
   "cell_type": "code",
   "execution_count": 5,
   "id": "c208fb95",
   "metadata": {},
   "outputs": [
    {
     "name": "stdout",
     "output_type": "stream",
     "text": [
      "\n",
      "Short version of month Apr\n"
     ]
    }
   ],
   "source": [
    "res=cd.strftime(\"%b\")\n",
    "print(\"\\nShort version of month\", res)\n"
   ]
  },
  {
   "cell_type": "code",
   "execution_count": 6,
   "id": "9ddc59de",
   "metadata": {},
   "outputs": [
    {
     "name": "stdout",
     "output_type": "stream",
     "text": [
      "\n",
      "Full name of month: April\n"
     ]
    }
   ],
   "source": [
    "res=cd.strftime(\"%B\")\n",
    "print(\"\\nFull name of month:\",res)\n"
   ]
  },
  {
   "cell_type": "code",
   "execution_count": 7,
   "id": "ffcd145a",
   "metadata": {},
   "outputs": [
    {
     "name": "stdout",
     "output_type": "stream",
     "text": [
      "\n",
      "Days of the year: 102\n"
     ]
    }
   ],
   "source": [
    "res=cd.strftime(\"%j\") \n",
    "print(\"\\nDays of the year:\", res)\n"
   ]
  },
  {
   "cell_type": "code",
   "execution_count": 8,
   "id": "17146ba9",
   "metadata": {},
   "outputs": [
    {
     "name": "stdout",
     "output_type": "stream",
     "text": [
      "\n",
      "Shortcut for %m/%d/%y (e.g., 04/18/12): 04/12/25\n"
     ]
    }
   ],
   "source": [
    "res=cd.strftime(\"%D\") \n",
    "print(\"\\nShortcut for %m/%d/%y (e.g., 04/18/12):\", res)\n"
   ]
  },
  {
   "cell_type": "code",
   "execution_count": 9,
   "id": "fa320c0d",
   "metadata": {},
   "outputs": [
    {
     "name": "stdout",
     "output_type": "stream",
     "text": [
      "\n",
      "Two-digit day [01, 31]: 12\n"
     ]
    }
   ],
   "source": [
    "res=cd.strftime(\"%d\") \n",
    "print(\"\\nTwo-digit day [01, 31]:\", res)\n"
   ]
  },
  {
   "cell_type": "code",
   "execution_count": 10,
   "id": "28303afc",
   "metadata": {},
   "outputs": [
    {
     "name": "stdout",
     "output_type": "stream",
     "text": [
      "\n",
      "Short version of day Sat\n"
     ]
    }
   ],
   "source": [
    "res=cd.strftime(\"%a\")\n",
    "print(\"\\nShort version of day\", res)\n"
   ]
  },
  {
   "cell_type": "code",
   "execution_count": 11,
   "id": "8b66773a",
   "metadata": {},
   "outputs": [
    {
     "name": "stdout",
     "output_type": "stream",
     "text": [
      "\n",
      "Short version of day Sat\n"
     ]
    }
   ],
   "source": [
    "rres=cd.strftime(\"%a\")\n",
    "print(\"\\nShort version of day\", res)\n",
    "\n"
   ]
  },
  {
   "cell_type": "code",
   "execution_count": 12,
   "id": "113261da",
   "metadata": {},
   "outputs": [
    {
     "name": "stdout",
     "output_type": "stream",
     "text": [
      "\n",
      "Two-digit minute [00, 59]: 44\n"
     ]
    }
   ],
   "source": [
    "res=cd.strftime(\"%M\")\n",
    "print(\"\\nTwo-digit minute [00, 59]:\", res)\n"
   ]
  },
  {
   "cell_type": "code",
   "execution_count": 13,
   "id": "c782a8ae",
   "metadata": {},
   "outputs": [
    {
     "name": "stdout",
     "output_type": "stream",
     "text": [
      "\n",
      "Second (00, 61] (seconds 60, 61 account for leap seconds): 54\n"
     ]
    }
   ],
   "source": [
    "res=cd.strftime(\"%S\")\n",
    "print(\"\\nSecond (00, 61] (seconds 60, 61 account for leap seconds):\",res)\n"
   ]
  },
  {
   "cell_type": "code",
   "execution_count": 14,
   "id": "29aa25ba",
   "metadata": {},
   "outputs": [
    {
     "name": "stdout",
     "output_type": "stream",
     "text": [
      "\n",
      "Shortcut for %Y-%m-%d (eg, 2012-4-18): 2025-04-12\n"
     ]
    }
   ],
   "source": [
    "res=cd.strftime(\"%F\") \n",
    "print(\"\\nShortcut for %Y-%m-%d (eg, 2012-4-18):\",res)\n"
   ]
  },
  {
   "cell_type": "code",
   "execution_count": 15,
   "id": "18b34bec",
   "metadata": {},
   "outputs": [
    {
     "name": "stdout",
     "output_type": "stream",
     "text": [
      "\n",
      "Microsecond as an integer, zero-padded (from 000000 to 999999); 712515\n"
     ]
    }
   ],
   "source": [
    "res=cd.strftime(\"%f\") \n",
    "print(\"\\nMicrosecond as an integer, zero-padded (from 000000 to 999999);\", res)\n"
   ]
  },
  {
   "cell_type": "code",
   "execution_count": 16,
   "id": "8c7acc41",
   "metadata": {},
   "outputs": [
    {
     "name": "stdout",
     "output_type": "stream",
     "text": [
      "\n",
      "Locale-appropriate formatted date (eg, in the United States, May 1, 2012 yields '05/01/2012) 04/12/25\n"
     ]
    }
   ],
   "source": [
    "res=cd.strftime(\"%x\")\n",
    "print(\"\\nLocale-appropriate formatted date (eg, in the United States, May 1, 2012 yields '05/01/2012)\", res)\n"
   ]
  },
  {
   "cell_type": "code",
   "execution_count": 17,
   "id": "5511f630",
   "metadata": {},
   "outputs": [
    {
     "name": "stdout",
     "output_type": "stream",
     "text": [
      "\n",
      "Locale-appropriate time (e.g., '04:24:12 PM'): 12:44:54\n"
     ]
    }
   ],
   "source": [
    "res=cd.strftime(\"%X\")\n",
    "print(\"\\nLocale-appropriate time (e.g., '04:24:12 PM'):\",res)\n"
   ]
  },
  {
   "cell_type": "code",
   "execution_count": null,
   "id": "66669faf",
   "metadata": {},
   "outputs": [],
   "source": []
  }
 ],
 "metadata": {
  "kernelspec": {
   "display_name": "Python 3 (ipykernel)",
   "language": "python",
   "name": "python3"
  },
  "language_info": {
   "codemirror_mode": {
    "name": "ipython",
    "version": 3
   },
   "file_extension": ".py",
   "mimetype": "text/x-python",
   "name": "python",
   "nbconvert_exporter": "python",
   "pygments_lexer": "ipython3",
   "version": "3.10.9"
  }
 },
 "nbformat": 4,
 "nbformat_minor": 5
}
